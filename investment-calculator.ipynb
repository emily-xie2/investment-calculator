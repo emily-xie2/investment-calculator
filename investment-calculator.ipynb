{
  "cells": [
    {
      "cell_type": "code",
      "execution_count": null,
      "metadata": {
        "id": "-VOhDt-a1jI8",
        "outputId": "28d0bbae-8b96-434c-9295-490c69323a4f"
      },
      "outputs": [
        {
          "name": "stdout",
          "output_type": "stream",
          "text": [
            "Enter an investment type: annuity\n",
            "Please enter the compounding period (ANNUAL, SEMI-ANNUAL, MONTHLY, DAILY): ANNUAL\n",
            "Please enter the capital amount: 12\n",
            "Please enter the % rate in terms of your compounding period: 12\n",
            "Please enter the total time in terms of your compounding period: 12\n"
          ]
        }
      ],
      "source": [
        "class TimeValue:\n",
        "    # initializes with the relevant values required for calculation\n",
        "    def __init__(self, timeValueType):\n",
        "        self.timeValueType = timeValueType\n",
        "\n",
        "    # calc(compound_period, c, r, t) returns the relevant value for PV, FV, annunity, or perpetuity\n",
        "    def calc(self, compound_period, c, r, t):\n",
        "        # c = initial investment or cashflow at end of year t if c~t\n",
        "        # r = return\n",
        "        # t = period\n",
        "\n",
        "        # 1. Convert interest rate from APR to relevant compounding period and from percentage to decimal\n",
        "            # note: assumes that interest rate is always listed as APR\n",
        "        if (compound_period != \"ANNUAL\"):\n",
        "            if (compound_period == \"SEMI-ANNUAL\"):\n",
        "                adjusted_r = r/2/100\n",
        "            elif (compound_period == \"MONTHLY\"):\n",
        "                adjusted_r = r/12/100\n",
        "            elif (compound_period == \"DAILY\"):\n",
        "                adjusted_r = r/365/100\n",
        "        else:\n",
        "            adjusted_r = r/100\n",
        "\n",
        "        # 2. Determine the type of investment and perform calculations accordingly\n",
        "        if (self.timeValueType == \"PV\"):\n",
        "            finalValue = c/((1+adjusted_r)**t)\n",
        "        elif (self.timeValueType == \"FV\"):\n",
        "            finalValue = c*((1+adjusted_r)**t)\n",
        "        elif (self.timeValueType == \"annuity\"): # PV of annuity\n",
        "            finalValue = (c/adjusted_r) * (1 - (1/(1+adjusted_r)**t))\n",
        "        elif (self.timeValueType == \"perpetuity\"): # PV of perpetuity\n",
        "            finalValue = c/adjusted_r\n",
        "\n",
        "\n",
        "        # return final value\n",
        "        return finalValue\n",
        "\n",
        "while True:\n",
        "    invest_type = input('Enter an investment type: ')\n",
        "    if (invest_type != \"PV\") and (invest_type != \"FV\") and (invest_type != \"annuity\") and (invest_type != \"perpetuity\"):\n",
        "        print(\"Sorry, you must enter one of the following: PV, FV, annuity, perpetuity.\")\n",
        "        continue\n",
        "    else:\n",
        "        # valid input\n",
        "        break\n",
        "\n",
        "while True:\n",
        "    compound_period = input('Please enter the compounding period (ANNUAL, SEMI-ANNUAL, MONTHLY, DAILY): ')\n",
        "    if (compound_period != \"ANNUAL\") and (invest_type != \"SEMI-ANNUAL\") and (invest_type != \"MONTHLY\") and (invest_type != \"DAILY\"):\n",
        "        print(\"Sorry, you must enter one of the following: ANNUAL, SEMI-ANNUAL, MONTHLY, DAILY.\")\n",
        "        continue\n",
        "    else:\n",
        "        # valid input\n",
        "        break\n",
        "\n",
        "while True:\n",
        "    c = float(input('Please enter the capital amount: '))\n",
        "    if (c >= 0):\n",
        "        # valid input\n",
        "        break\n",
        "        continue\n",
        "    else:\n",
        "        print(\"Sorry, your capital value must be greater than 0.\")\n",
        "        break\n",
        "\n",
        "while True:\n",
        "    r = float(input('Please enter the % rate in terms of your compounding period: '))\n",
        "    if (r >= 0):\n",
        "        # valid input\n",
        "        break\n",
        "        continue\n",
        "    else:\n",
        "        print(\"Sorry, your rate must be entered as percentage greater than or equal to 0%.\")\n",
        "        break\n",
        "\n",
        "while True:\n",
        "    t = float(input('Please enter the total time in terms of your compounding period: '))\n",
        "    if (t >= 0):\n",
        "        # valid input\n",
        "        break\n",
        "        continue\n",
        "    else:\n",
        "        print(\"Sorry, your time must be greater than or equal to 0.\")\n",
        "        break\n"
      ],
      "id": "-VOhDt-a1jI8"
    },
    {
      "cell_type": "code",
      "execution_count": null,
      "metadata": {
        "id": "v6lymT9J1jJB",
        "outputId": "e2371600-ab71-40e9-ba69-3a499d438dc3"
      },
      "outputs": [
        {
          "name": "stdout",
          "output_type": "stream",
          "text": [
            "Your final value is: $  74.33\n"
          ]
        }
      ],
      "source": [
        "my_pv = TimeValue(invest_type)\n",
        "the_result = round(my_pv.calc(compound_period, c, r, t), 2)\n",
        "\n",
        "\n",
        "print(\"Your final value is: $ \", the_result)"
      ],
      "id": "v6lymT9J1jJB"
    },
    {
      "cell_type": "code",
      "execution_count": null,
      "metadata": {
        "id": "3_olkLwA1jJB"
      },
      "outputs": [],
      "source": [],
      "id": "3_olkLwA1jJB"
    }
  ],
  "metadata": {
    "kernelspec": {
      "display_name": "Python 3",
      "language": "python",
      "name": "python3"
    },
    "language_info": {
      "codemirror_mode": {
        "name": "ipython",
        "version": 3
      },
      "file_extension": ".py",
      "mimetype": "text/x-python",
      "name": "python",
      "nbconvert_exporter": "python",
      "pygments_lexer": "ipython3",
      "version": "3.8.3"
    },
    "colab": {
      "provenance": []
    }
  },
  "nbformat": 4,
  "nbformat_minor": 5
}